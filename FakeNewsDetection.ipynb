{
  "nbformat": 4,
  "nbformat_minor": 0,
  "metadata": {
    "colab": {
      "name": "FakeNewsDetection.ipynb",
      "provenance": [],
      "collapsed_sections": [],
      "include_colab_link": true
    },
    "kernelspec": {
      "name": "python3",
      "display_name": "Python 3"
    }
  },
  "cells": [
    {
      "cell_type": "markdown",
      "metadata": {
        "id": "view-in-github",
        "colab_type": "text"
      },
      "source": [
        "<a href=\"https://colab.research.google.com/github/dedeepyay/Fake-Reviews-Detection/blob/main/FakeNewsDetection.ipynb\" target=\"_parent\"><img src=\"https://colab.research.google.com/assets/colab-badge.svg\" alt=\"Open In Colab\"/></a>"
      ]
    },
    {
      "cell_type": "code",
      "metadata": {
        "colab": {
          "base_uri": "https://localhost:8080/"
        },
        "id": "bxOnmXWC3NFn",
        "outputId": "edee3b0c-9028-4ce2-9e2c-89a17243a983"
      },
      "source": [
        "from google.colab import drive\n",
        "drive.mount('/content/drive')"
      ],
      "execution_count": null,
      "outputs": [
        {
          "output_type": "stream",
          "text": [
            "Mounted at /content/drive\n"
          ],
          "name": "stdout"
        }
      ]
    },
    {
      "cell_type": "code",
      "metadata": {
        "id": "AnoGGrjMOZEC"
      },
      "source": [
        "    import numpy as np\r\n",
        "    import pandas as pd\r\n",
        "    import itertools\r\n",
        "    from sklearn.model_selection import train_test_split\r\n",
        "    from sklearn.feature_extraction.text import TfidfVectorizer\r\n",
        "    from sklearn.linear_model import PassiveAggressiveClassifier\r\n",
        "    from sklearn.metrics import accuracy_score, confusion_matrix\r\n",
        "    import matplotlib.pyplot as plt\r\n",
        "    from collections import Counter\r\n",
        "   \r\n",
        "    #from sklearn import naive_bayes, metrics, svm\r\n",
        "    from IPython.display import Image\r\n",
        "    import warnings\r\n",
        "    warnings.filterwarnings(\"ignore\")\r\n",
        "    %matplotlib inline \r\n"
      ],
      "execution_count": null,
      "outputs": []
    },
    {
      "cell_type": "code",
      "metadata": {
        "id": "xwP88m9COp80"
      },
      "source": [
        "df = pd.read_csv('/content/news.csv')\r\n",
        "X=df['text']\r\n",
        "y=df['label']"
      ],
      "execution_count": null,
      "outputs": []
    },
    {
      "cell_type": "code",
      "metadata": {
        "id": "ROPRdD_qO2O-",
        "colab": {
          "base_uri": "https://localhost:8080/"
        },
        "outputId": "681b13cf-d7bb-4711-a436-b726ca816949"
      },
      "source": [
        "print(X)\r\n"
      ],
      "execution_count": null,
      "outputs": [
        {
          "output_type": "stream",
          "text": [
            "0       Daniel Greenfield, a Shillman Journalism Fello...\n",
            "1       Google Pinterest Digg Linkedin Reddit Stumbleu...\n",
            "2       U.S. Secretary of State John F. Kerry said Mon...\n",
            "3       — Kaydee King (@KaydeeKing) November 9, 2016 T...\n",
            "4       It's primary day in New York and front-runners...\n",
            "                              ...                        \n",
            "6330    The State Department told the Republican Natio...\n",
            "6331    The ‘P’ in PBS Should Stand for ‘Plutocratic’ ...\n",
            "6332     Anti-Trump Protesters Are Tools of the Oligar...\n",
            "6333    ADDIS ABABA, Ethiopia —President Obama convene...\n",
            "6334    Jeb Bush Is Suddenly Attacking Trump. Here's W...\n",
            "Name: text, Length: 6335, dtype: object\n"
          ],
          "name": "stdout"
        }
      ]
    },
    {
      "cell_type": "code",
      "metadata": {
        "id": "CdBX1vpaO7mG",
        "colab": {
          "base_uri": "https://localhost:8080/"
        },
        "outputId": "36dfe8cb-e1d0-4a99-a4a5-abd5e7084686"
      },
      "source": [
        "print(y)"
      ],
      "execution_count": null,
      "outputs": [
        {
          "output_type": "stream",
          "text": [
            "0       FAKE\n",
            "1       FAKE\n",
            "2       REAL\n",
            "3       FAKE\n",
            "4       REAL\n",
            "        ... \n",
            "6330    REAL\n",
            "6331    FAKE\n",
            "6332    FAKE\n",
            "6333    REAL\n",
            "6334    REAL\n",
            "Name: label, Length: 6335, dtype: object\n"
          ],
          "name": "stdout"
        }
      ]
    },
    {
      "cell_type": "code",
      "metadata": {
        "id": "UV83jQJgO_JH",
        "colab": {
          "base_uri": "https://localhost:8080/"
        },
        "outputId": "784da27b-d2a7-494c-ef89-031891a399e6"
      },
      "source": [
        "y.value_counts()"
      ],
      "execution_count": null,
      "outputs": [
        {
          "output_type": "execute_result",
          "data": {
            "text/plain": [
              "REAL    3171\n",
              "FAKE    3164\n",
              "Name: label, dtype: int64"
            ]
          },
          "metadata": {
            "tags": []
          },
          "execution_count": 6
        }
      ]
    },
    {
      "cell_type": "code",
      "metadata": {
        "id": "P_pP_NNXPD89",
        "colab": {
          "base_uri": "https://localhost:8080/"
        },
        "outputId": "3f18f330-2210-4a32-bfce-0ae6dea3242b"
      },
      "source": [
        "df.shape"
      ],
      "execution_count": null,
      "outputs": [
        {
          "output_type": "execute_result",
          "data": {
            "text/plain": [
              "(6335, 4)"
            ]
          },
          "metadata": {
            "tags": []
          },
          "execution_count": 7
        }
      ]
    },
    {
      "cell_type": "code",
      "metadata": {
        "id": "_zRj7U2ZPHUy",
        "colab": {
          "base_uri": "https://localhost:8080/",
          "height": 204
        },
        "outputId": "89280056-6ddd-4d0d-e71b-db5684ef4710"
      },
      "source": [
        "df.head()"
      ],
      "execution_count": null,
      "outputs": [
        {
          "output_type": "execute_result",
          "data": {
            "text/html": [
              "<div>\n",
              "<style scoped>\n",
              "    .dataframe tbody tr th:only-of-type {\n",
              "        vertical-align: middle;\n",
              "    }\n",
              "\n",
              "    .dataframe tbody tr th {\n",
              "        vertical-align: top;\n",
              "    }\n",
              "\n",
              "    .dataframe thead th {\n",
              "        text-align: right;\n",
              "    }\n",
              "</style>\n",
              "<table border=\"1\" class=\"dataframe\">\n",
              "  <thead>\n",
              "    <tr style=\"text-align: right;\">\n",
              "      <th></th>\n",
              "      <th>Unnamed: 0</th>\n",
              "      <th>title</th>\n",
              "      <th>text</th>\n",
              "      <th>label</th>\n",
              "    </tr>\n",
              "  </thead>\n",
              "  <tbody>\n",
              "    <tr>\n",
              "      <th>0</th>\n",
              "      <td>8476</td>\n",
              "      <td>You Can Smell Hillary’s Fear</td>\n",
              "      <td>Daniel Greenfield, a Shillman Journalism Fello...</td>\n",
              "      <td>FAKE</td>\n",
              "    </tr>\n",
              "    <tr>\n",
              "      <th>1</th>\n",
              "      <td>10294</td>\n",
              "      <td>Watch The Exact Moment Paul Ryan Committed Pol...</td>\n",
              "      <td>Google Pinterest Digg Linkedin Reddit Stumbleu...</td>\n",
              "      <td>FAKE</td>\n",
              "    </tr>\n",
              "    <tr>\n",
              "      <th>2</th>\n",
              "      <td>3608</td>\n",
              "      <td>Kerry to go to Paris in gesture of sympathy</td>\n",
              "      <td>U.S. Secretary of State John F. Kerry said Mon...</td>\n",
              "      <td>REAL</td>\n",
              "    </tr>\n",
              "    <tr>\n",
              "      <th>3</th>\n",
              "      <td>10142</td>\n",
              "      <td>Bernie supporters on Twitter erupt in anger ag...</td>\n",
              "      <td>— Kaydee King (@KaydeeKing) November 9, 2016 T...</td>\n",
              "      <td>FAKE</td>\n",
              "    </tr>\n",
              "    <tr>\n",
              "      <th>4</th>\n",
              "      <td>875</td>\n",
              "      <td>The Battle of New York: Why This Primary Matters</td>\n",
              "      <td>It's primary day in New York and front-runners...</td>\n",
              "      <td>REAL</td>\n",
              "    </tr>\n",
              "  </tbody>\n",
              "</table>\n",
              "</div>"
            ],
            "text/plain": [
              "   Unnamed: 0  ... label\n",
              "0        8476  ...  FAKE\n",
              "1       10294  ...  FAKE\n",
              "2        3608  ...  REAL\n",
              "3       10142  ...  FAKE\n",
              "4         875  ...  REAL\n",
              "\n",
              "[5 rows x 4 columns]"
            ]
          },
          "metadata": {
            "tags": []
          },
          "execution_count": 8
        }
      ]
    },
    {
      "cell_type": "code",
      "metadata": {
        "id": "3PfwTnEuPKT1",
        "colab": {
          "base_uri": "https://localhost:8080/",
          "height": 297
        },
        "outputId": "5b4f483e-6f82-464d-e19f-c5552ad97fa0"
      },
      "source": [
        "count_Class=pd.value_counts(df[\"label\"], sort= True)\r\n",
        "count_Class.plot(kind= 'bar', color= [\"blue\", \"orange\"])\r\n",
        "plt.title('Bar chart')\r\n",
        "plt.show()"
      ],
      "execution_count": null,
      "outputs": [
        {
          "output_type": "display_data",
          "data": {
            "image/png": "[encoded data removed]",
            "text/plain": [
              "<Figure size 432x288 with 1 Axes>"
            ]
          },
          "metadata": {
            "tags": [],
            "needs_background": "light"
          }
        }
      ]
    },
    {
      "cell_type": "code",
      "metadata": {
        "id": "QxGrWANVPLTa",
        "colab": {
          "base_uri": "https://localhost:8080/",
          "height": 264
        },
        "outputId": "c585b683-3267-4d73-eb77-27e83e79e6d5"
      },
      "source": [
        "count_Class.plot(kind = 'pie',  autopct='%1.0f%%')\r\n",
        "plt.title('Pie chart')\r\n",
        "plt.ylabel('')\r\n",
        "plt.show()"
      ],
      "execution_count": null,
      "outputs": [
        {
          "output_type": "display_data",
          "data": {
            "image/png": "[encoded data removed]",
            "text/plain": [
              "<Figure size 432x288 with 1 Axes>"
            ]
          },
          "metadata": {
            "tags": []
          }
        }
      ]
    },
    {
      "cell_type": "code",
      "metadata": {
        "id": "eMiGOmSyPSK-"
      },
      "source": [
        "count1 = Counter(\" \".join(df[df['label']=='REAL'][\"text\"]).split()).most_common(20)\r\n",
        "df1 = pd.DataFrame.from_dict(count1)\r\n",
        "df1 = df1.rename(columns={0: \"words in REAL\", 1 : \"count\"})\r\n",
        "count2 = Counter(\" \".join(df[df['label']=='FAKE'][\"text\"]).split()).most_common(20)\r\n",
        "df2 = pd.DataFrame.from_dict(count2)\r\n",
        "df2 = df2.rename(columns={0: \"words in FAKE\", 1 : \"count_\"})"
      ],
      "execution_count": null,
      "outputs": []
    },
    {
      "cell_type": "code",
      "metadata": {
        "id": "cZiyv6ejPYHV",
        "colab": {
          "base_uri": "https://localhost:8080/",
          "height": 310
        },
        "outputId": "d3aed55a-95c6-4c7b-d23c-e4a604c0e6ec"
      },
      "source": [
        "df1.plot.bar(legend = False)\r\n",
        "y_pos = np.arange(len(df1[\"words in REAL\"]))\r\n",
        "plt.xticks(y_pos, df1[\"words in REAL\"])\r\n",
        "plt.title('More frequent words in non-spam messages')\r\n",
        "plt.xlabel('words')\r\n",
        "plt.ylabel('number')\r\n",
        "plt.show()"
      ],
      "execution_count": null,
      "outputs": [
        {
          "output_type": "display_data",
          "data": {
            "image/png": "[encoded data removed]",
            "text/plain": [
              "<Figure size 432x288 with 1 Axes>"
            ]
          },
          "metadata": {
            "tags": [],
            "needs_background": "light"
          }
        }
      ]
    },
    {
      "cell_type": "code",
      "metadata": {
        "id": "eWB_NlI6PY90",
        "colab": {
          "base_uri": "https://localhost:8080/",
          "height": 310
        },
        "outputId": "d73b01b8-e78b-4a53-cafe-db1f4f6c86c3"
      },
      "source": [
        "df2.plot.bar(legend = False, color = 'orange')\r\n",
        "y_pos = np.arange(len(df2[\"words in FAKE\"]))\r\n",
        "plt.xticks(y_pos, df2[\"words in FAKE\"])\r\n",
        "plt.title('More frequent words in spam messages')\r\n",
        "plt.xlabel('words')\r\n",
        "plt.ylabel('number')\r\n",
        "plt.show()\r\n"
      ],
      "execution_count": null,
      "outputs": [
        {
          "output_type": "display_data",
          "data": {
            "image/png": "[encoded data removed]",
            "text/plain": [
              "<Figure size 432x288 with 1 Axes>"
            ]
          },
          "metadata": {
            "tags": [],
            "needs_background": "light"
          }
        }
      ]
    },
    {
      "cell_type": "code",
      "metadata": {
        "id": "r7RXpQPWPgZM"
      },
      "source": [
        "from sklearn.model_selection import train_test_split\r\n",
        "\r\n",
        "X = df['text'] \r\n",
        "y = df['label']\r\n"
      ],
      "execution_count": null,
      "outputs": []
    },
    {
      "cell_type": "code",
      "metadata": {
        "id": "Heu_SQHOPgcm",
        "colab": {
          "base_uri": "https://localhost:8080/"
        },
        "outputId": "da32547f-4b61-4e0f-8bf9-5f8bd7193959"
      },
      "source": [
        "X_train, X_test, y_train, y_test = train_test_split(X, y, test_size=0.33, random_state=42)\r\n",
        "from sklearn.feature_extraction.text import TfidfVectorizer\r\n",
        "vectorizer = TfidfVectorizer()\r\n",
        "\r\n",
        "X_train_tfidf = vectorizer.fit_transform(X_train) # remember to use the original X_train set\r\n",
        "X_train_tfidf.shape\r\n"
      ],
      "execution_count": null,
      "outputs": [
        {
          "output_type": "execute_result",
          "data": {
            "text/plain": [
              "(4244, 57109)"
            ]
          },
          "metadata": {
            "tags": []
          },
          "execution_count": 15
        }
      ]
    },
    {
      "cell_type": "code",
      "metadata": {
        "id": "krKZ8TgUPqnF",
        "colab": {
          "base_uri": "https://localhost:8080/"
        },
        "outputId": "743c9429-5d34-46c3-ac6d-78ec38491ff7"
      },
      "source": [
        "from sklearn.svm import LinearSVC\r\n",
        "clf = LinearSVC()\r\n",
        "clf.fit(X_train_tfidf,y_train)\r\n"
      ],
      "execution_count": null,
      "outputs": [
        {
          "output_type": "execute_result",
          "data": {
            "text/plain": [
              "LinearSVC(C=1.0, class_weight=None, dual=True, fit_intercept=True,\n",
              "          intercept_scaling=1, loss='squared_hinge', max_iter=1000,\n",
              "          multi_class='ovr', penalty='l2', random_state=None, tol=0.0001,\n",
              "          verbose=0)"
            ]
          },
          "metadata": {
            "tags": []
          },
          "execution_count": 16
        }
      ]
    },
    {
      "cell_type": "code",
      "metadata": {
        "id": "aaUWJFxOPupZ",
        "colab": {
          "base_uri": "https://localhost:8080/"
        },
        "outputId": "c01b714b-249b-40ea-f6e0-a55abfc60d73"
      },
      "source": [
        "from sklearn.pipeline import Pipeline\r\n",
        "# from sklearn.feature_extraction.text import TfidfVectorizer\r\n",
        "# from sklearn.svm import LinearSVC\r\n",
        "\r\n",
        "text_clf = Pipeline([('tfidf', TfidfVectorizer()),\r\n",
        "                     ('clf', LinearSVC()),\r\n",
        "])\r\n",
        "\r\n",
        "# Feed the training data through the pipeline\r\n",
        "text_clf.fit(X_train, y_train)"
      ],
      "execution_count": null,
      "outputs": [
        {
          "output_type": "execute_result",
          "data": {
            "text/plain": [
              "Pipeline(memory=None,\n",
              "         steps=[('tfidf',\n",
              "                 TfidfVectorizer(analyzer='word', binary=False,\n",
              "                                 decode_error='strict',\n",
              "                                 dtype=<class 'numpy.float64'>,\n",
              "                                 encoding='utf-8', input='content',\n",
              "                                 lowercase=True, max_df=1.0, max_features=None,\n",
              "                                 min_df=1, ngram_range=(1, 1), norm='l2',\n",
              "                                 preprocessor=None, smooth_idf=True,\n",
              "                                 stop_words=None, strip_accents=None,\n",
              "                                 sublinear_tf=False,\n",
              "                                 token_pattern='(?u)\\\\b\\\\w\\\\w+\\\\b',\n",
              "                                 tokenizer=None, use_idf=True,\n",
              "                                 vocabulary=None)),\n",
              "                ('clf',\n",
              "                 LinearSVC(C=1.0, class_weight=None, dual=True,\n",
              "                           fit_intercept=True, intercept_scaling=1,\n",
              "                           loss='squared_hinge', max_iter=1000,\n",
              "                           multi_class='ovr', penalty='l2', random_state=None,\n",
              "                           tol=0.0001, verbose=0))],\n",
              "         verbose=False)"
            ]
          },
          "metadata": {
            "tags": []
          },
          "execution_count": 17
        }
      ]
    },
    {
      "cell_type": "code",
      "metadata": {
        "id": "LpbBHdHFPy7Y",
        "colab": {
          "base_uri": "https://localhost:8080/"
        },
        "outputId": "456fcdcb-fe95-4cea-99c2-985895db6289"
      },
      "source": [
        "predictions = text_clf.predict(X_test)\r\n",
        "from sklearn import metrics\r\n",
        "print(metrics.confusion_matrix(y_test,predictions))"
      ],
      "execution_count": null,
      "outputs": [
        {
          "output_type": "stream",
          "text": [
            "[[1014   57]\n",
            " [  72  948]]\n"
          ],
          "name": "stdout"
        }
      ]
    },
    {
      "cell_type": "code",
      "metadata": {
        "id": "-qW3rD4gP2yk",
        "colab": {
          "base_uri": "https://localhost:8080/"
        },
        "outputId": "f3b3603d-71fb-419d-d359-399357d81325"
      },
      "source": [
        "print(metrics.classification_report(y_test,predictions))"
      ],
      "execution_count": null,
      "outputs": [
        {
          "output_type": "stream",
          "text": [
            "              precision    recall  f1-score   support\n",
            "\n",
            "        FAKE       0.93      0.95      0.94      1071\n",
            "        REAL       0.94      0.93      0.94      1020\n",
            "\n",
            "    accuracy                           0.94      2091\n",
            "   macro avg       0.94      0.94      0.94      2091\n",
            "weighted avg       0.94      0.94      0.94      2091\n",
            "\n"
          ],
          "name": "stdout"
        }
      ]
    },
    {
      "cell_type": "code",
      "metadata": {
        "id": "qqzuC9S8P7gI",
        "colab": {
          "base_uri": "https://localhost:8080/"
        },
        "outputId": "dcc54b7c-9286-41af-d46c-975a4b96073b"
      },
      "source": [
        "X_train_tfidf1 = vectorizer.fit_transform([\"your email was selected to claim to sum of  $ 5,000,000 in the 2011 european lottery\"])\r\n",
        "X_train_tfidf1.shape"
      ],
      "execution_count": null,
      "outputs": [
        {
          "output_type": "execute_result",
          "data": {
            "text/plain": [
              "(1, 14)"
            ]
          },
          "metadata": {
            "tags": []
          },
          "execution_count": 20
        }
      ]
    },
    {
      "cell_type": "code",
      "metadata": {
        "id": "TC7hIq2FQwkJ",
        "colab": {
          "base_uri": "https://localhost:8080/"
        },
        "outputId": "5ff4dfd5-f04e-46ab-f571-71ae0664d747"
      },
      "source": [
        "predi = text_clf.predict([\"your email was selected to claim to sum of  $ 5,000,000 in the 2011 european lottery\"])\r\n",
        "print(predi)"
      ],
      "execution_count": null,
      "outputs": [
        {
          "output_type": "stream",
          "text": [
            "['FAKE']\n"
          ],
          "name": "stdout"
        }
      ]
    },
    {
      "cell_type": "code",
      "metadata": {
        "id": "TOotPuu5Q5fZ",
        "colab": {
          "base_uri": "https://localhost:8080/"
        },
        "outputId": "b2de4563-6498-4445-f3b6-1cedcecc15c9"
      },
      "source": [
        "predict=text_clf.predict([\"India's Covid-19 caseload has crossed the 8.5 lakh mark. The rapid spread of the pandemic has seen the country's share in daily global cases rise to 12%. Late last night, actor Amitabh Bachchan, son Abhishek tested positive for Covid-19 and were hospitalised. Their residence 'Jalsa' has now been declared a containment zone.\"])\r\n",
        "print(predict)"
      ],
      "execution_count": null,
      "outputs": [
        {
          "output_type": "stream",
          "text": [
            "['FAKE']\n"
          ],
          "name": "stdout"
        }
      ]
    },
    {
      "cell_type": "code",
      "metadata": {
        "id": "Q_NoOtatRAjI",
        "colab": {
          "base_uri": "https://localhost:8080/"
        },
        "outputId": "acb958fe-4632-410b-cc01-d27a22e8c205"
      },
      "source": [
        "predi = text_clf.predict([\"Amid reports that the Congress was faced with a crisis over the survival of its government in Rajasthan, state Tourism Minister Vishvendra Singh on Sunday said he was visiting Delhi over a personal matter.\"])\r\n",
        "print(predi)"
      ],
      "execution_count": null,
      "outputs": [
        {
          "output_type": "stream",
          "text": [
            "['REAL']\n"
          ],
          "name": "stdout"
        }
      ]
    },
    {
      "cell_type": "code",
      "metadata": {
        "id": "0yrSuj2fRBin",
        "colab": {
          "base_uri": "https://localhost:8080/"
        },
        "outputId": "56e7145f-ac28-4ba6-b7fe-b68f4438320a"
      },
      "source": [
        "predi = text_clf.predict([\"Breaking news live updates: 1 BSF personnel arrested by Punjab police in a drug smuggling case\"])\r\n",
        "print(predi)"
      ],
      "execution_count": null,
      "outputs": [
        {
          "output_type": "stream",
          "text": [
            "['FAKE']\n"
          ],
          "name": "stdout"
        }
      ]
    },
    {
      "cell_type": "code",
      "metadata": {
        "colab": {
          "base_uri": "https://localhost:8080/"
        },
        "id": "zdLkflnNICHa",
        "outputId": "0080a2cf-aea8-43b1-9052-d0f02b009823"
      },
      "source": [
        "predi = text_clf.predict([\"your email was selected to claim to sum of  $ 5,000,000 in the 2011 european lottery\"])\r\n",
        "print(predi)"
      ],
      "execution_count": null,
      "outputs": [
        {
          "output_type": "stream",
          "text": [
            "['FAKE']\n"
          ],
          "name": "stdout"
        }
      ]
    }
  ]
}